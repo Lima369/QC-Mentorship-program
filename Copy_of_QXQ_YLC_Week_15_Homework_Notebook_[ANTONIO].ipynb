{
  "nbformat": 4,
  "nbformat_minor": 5,
  "metadata": {
    "kernelspec": {
      "display_name": "Qiskit v0.31.0 (ipykernel)",
      "language": "python",
      "name": "python3"
    },
    "language_info": {
      "codemirror_mode": {
        "name": "ipython",
        "version": 3
      },
      "file_extension": ".py",
      "mimetype": "text/x-python",
      "name": "python",
      "nbconvert_exporter": "python",
      "pygments_lexer": "ipython3",
      "version": "3.8.10"
    },
    "colab": {
      "provenance": [],
      "include_colab_link": true
    }
  },
  "cells": [
    {
      "cell_type": "markdown",
      "metadata": {
        "id": "view-in-github",
        "colab_type": "text"
      },
      "source": [
        "<a href=\"https://colab.research.google.com/github/Lima369/QC-Mentorship-program/blob/main/Copy_of_QXQ_YLC_Week_15_Homework_Notebook_%5BANTONIO%5D.ipynb\" target=\"_parent\"><img src=\"https://colab.research.google.com/assets/colab-badge.svg\" alt=\"Open In Colab\"/></a>"
      ]
    },
    {
      "cell_type": "markdown",
      "source": [
        "# **Homework 15: Complexity of Algorithms**\n",
        "---\n",
        "\n",
        "### **Description**\n",
        "Today, you will work with two of the most famous classical search algorithms: linear and binary search. You will implement and analyze their performance.\n",
        "\n",
        "\n",
        "\n",
        "<br>\n",
        "\n",
        "### **Structure**\n",
        "**Part 1**: [Linear Search](#p1)\n",
        "\n",
        "**Part 2**: [Binary Search](#p2)\n",
        "\n",
        "\n",
        "<br>\n",
        "\n",
        "### **Learning Objectives**\n",
        "By the end of this assignment, you will:\n",
        "* Recognize how to compare algorithms using big-O notation.\n",
        "* Recognize the limits of classical search algorithms for unordered lists.\n",
        "\n",
        "\n",
        "<br>\n",
        "\n",
        "### **Resources**\n",
        "\n",
        "\n",
        "<br>\n",
        "\n",
        "**Before starting, run the code below to import all necessary functions and libraries.**"
      ],
      "metadata": {
        "id": "1s-9JC7kWwrY"
      },
      "id": "1s-9JC7kWwrY"
    },
    {
      "cell_type": "code",
      "execution_count": 1,
      "metadata": {
        "id": "LxC62c-hRcYv",
        "colab": {
          "base_uri": "https://localhost:8080/"
        },
        "outputId": "73856cfa-0092-46f9-878e-084ce1f7a485"
      },
      "outputs": [
        {
          "output_type": "stream",
          "name": "stdout",
          "text": [
            "Libraries imported successfully!\n"
          ]
        }
      ],
      "source": [
        "# @title\n",
        "# Importing other python libraries\n",
        "import random\n",
        "import matplotlib.pyplot as plt\n",
        "import warnings\n",
        "warnings.filterwarnings(\"ignore\")\n",
        "\n",
        "print(\"Libraries imported successfully!\")"
      ],
      "id": "LxC62c-hRcYv"
    },
    {
      "cell_type": "markdown",
      "metadata": {
        "jp-MarkdownHeadingCollapsed": true,
        "tags": [],
        "id": "sVwVviQORgWa"
      },
      "source": [
        "<a name=\"p1\"></a>\n",
        "\n",
        "---\n",
        "## **Part 1: Linear Search**\n",
        "---\n",
        "\n",
        "In this section, we will implement and analyze the linear search algorithm."
      ],
      "id": "sVwVviQORgWa"
    },
    {
      "cell_type": "markdown",
      "source": [
        "#### **Problem #1.1**\n",
        "\n",
        "Create code to implement linear search for a list of numbers. We will use the following variables:\n",
        "* `list_items`: A list of numbers from 0 to 99 that we will search through.\n",
        "* `marked_item`: A randomly selected number from the list that we will search for.\n",
        "* `number_queries`: A count of how many times we need to query the list to find the marked item."
      ],
      "metadata": {
        "id": "ygbX_FcFUVuL"
      },
      "id": "ygbX_FcFUVuL"
    },
    {
      "cell_type": "code",
      "source": [
        "list_items = range(100)\n",
        "marked_item = random.choice(list_items)\n",
        "\n",
        "print(list_items)\n",
        "print(marked_item)\n",
        "\n",
        "number_queries = 0\n",
        "for item in list_items:\n",
        "\n",
        "    number_queries = number_queries + 1\n",
        "\n",
        "    if item == marked_item:\n",
        "        print(str(marked_item) + \" has been found in \" + str(number_queries) + \" queries.\")\n",
        "        break"
      ],
      "metadata": {
        "id": "R2D2dcD3TfMi",
        "colab": {
          "base_uri": "https://localhost:8080/"
        },
        "outputId": "ca4c0697-a941-4ac5-df73-76da0b0f72b6"
      },
      "id": "R2D2dcD3TfMi",
      "execution_count": 2,
      "outputs": [
        {
          "output_type": "stream",
          "name": "stdout",
          "text": [
            "range(0, 100)\n",
            "34\n",
            "34 has been found in 35 queries.\n"
          ]
        }
      ]
    },
    {
      "cell_type": "markdown",
      "source": [
        "#### **Problem #1.2**\n",
        "\n",
        "Code a function called `lin_search` such that it:\n",
        "* Takes `num` and `target` as input parameters.\n",
        "* `num` is the number of elemenst in `list_items`.\n",
        "* `target` is the `marked_item` to search for.\n",
        "* Returns the number of queries `marked_item` was found in."
      ],
      "metadata": {
        "id": "YcEAj6cjXqNu"
      },
      "id": "YcEAj6cjXqNu"
    },
    {
      "cell_type": "code",
      "source": [
        "def lin_search(num, target):\n",
        "  list_items = range(num)\n",
        "  marked_item = target\n",
        "\n",
        "  print(list_items)\n",
        "  print(marked_item)\n",
        "\n",
        "  number_queries = 0\n",
        "  for item in list_items:\n",
        "\n",
        "    number_queries = number_queries + 1\n",
        "\n",
        "    if item == marked_item:\n",
        "        return number_queries\n",
        "        break"
      ],
      "metadata": {
        "id": "5aey3xJ6Y9O7"
      },
      "id": "5aey3xJ6Y9O7",
      "execution_count": 23,
      "outputs": []
    },
    {
      "cell_type": "code",
      "source": [
        "print(lin_search(100, 16))"
      ],
      "metadata": {
        "colab": {
          "base_uri": "https://localhost:8080/"
        },
        "id": "Yx3NNy7tRZdT",
        "outputId": "bd99e681-53dd-46f2-a1e9-fe6f88d1f8e9"
      },
      "id": "Yx3NNy7tRZdT",
      "execution_count": 24,
      "outputs": [
        {
          "output_type": "stream",
          "name": "stdout",
          "text": [
            "range(0, 100)\n",
            "16\n",
            "17\n"
          ]
        }
      ]
    },
    {
      "cell_type": "markdown",
      "metadata": {
        "jp-MarkdownHeadingCollapsed": true,
        "tags": [],
        "id": "WFmS9OGla44n"
      },
      "source": [
        "<a name=\"p2\"></a>\n",
        "\n",
        "---\n",
        "## **Part 2: Binary Search**\n",
        "---\n",
        "\n",
        "In this section, we will implement and analyze the binary search algorithm. We will also visually compare it to the linear search algorithm we implemented above.\n"
      ],
      "id": "WFmS9OGla44n"
    },
    {
      "cell_type": "markdown",
      "source": [
        "#### **Problem #2.1**\n",
        "\n",
        "Complete the code below to implement binary search for a list of numbers. We will use the following variables:\n",
        "* `list_items`: A list of numbers from 0 to 99 that we will search through.\n",
        "* `marked_item`: A randomly selected number from the list that we will search for.\n",
        "* `number_queries`: A count of how many times we need to query the list to find the marked item."
      ],
      "metadata": {
        "id": "xXt3_XDQa44o"
      },
      "id": "xXt3_XDQa44o"
    },
    {
      "cell_type": "code",
      "source": [
        "list_items = range(100)\n",
        "marked_item = random.choice(list_items)\n",
        "\n",
        "left = 0\n",
        "right = len(list_items) - 1\n",
        "\n",
        "number_queries = 0\n",
        "for item in list_items:\n",
        "\n",
        "  number_queries = number_queries + 1\n",
        "\n",
        "  middle = int((left + right)/2)\n",
        "  if list_items[middle] > marked_item:\n",
        "    right = middle\n",
        "  elif list_items[middle] < marked_item:\n",
        "    left = middle\n",
        "  else:\n",
        "    print(str(marked_item) + \" has been found in \" + str(number_queries) + \" queries.\")\n",
        "    break"
      ],
      "metadata": {
        "id": "rWtwzpWGa44o",
        "colab": {
          "base_uri": "https://localhost:8080/"
        },
        "outputId": "dc842dba-a1f4-48bc-9143-eca0c4465b4e"
      },
      "execution_count": 5,
      "outputs": [
        {
          "output_type": "stream",
          "name": "stdout",
          "text": [
            "62 has been found in 6 queries.\n"
          ]
        }
      ],
      "id": "rWtwzpWGa44o"
    },
    {
      "cell_type": "markdown",
      "source": [
        "####**Problem #2.2**\n",
        "Code a function called `bin_search` such that it:\n",
        "* Takes `num` and `target` as input parameters.\n",
        "* `num` is the number of elemenst in `list_items`.\n",
        "* `target` is the `marked_item` to search for.\n",
        "* Returns the number of queries `marked_item` was found in."
      ],
      "metadata": {
        "id": "TmcfgEBJaZjG"
      },
      "id": "TmcfgEBJaZjG"
    },
    {
      "cell_type": "code",
      "source": [
        "def bin_search(num, target):\n",
        "  list_items = range(num)\n",
        "  marked_item = target\n",
        "\n",
        "  left = 0\n",
        "  right = len(list_items) - 1\n",
        "\n",
        "  number_queries = 0\n",
        "  for item in list_items:\n",
        "\n",
        "    number_queries = number_queries + 1\n",
        "\n",
        "    middle = int((left + right)/2)\n",
        "    if list_items[middle] > marked_item:\n",
        "      right = middle\n",
        "    elif list_items[middle] < marked_item:\n",
        "      left = middle\n",
        "    else:\n",
        "      return number_queries\n",
        "      break"
      ],
      "metadata": {
        "id": "wm3F3mQ3aiOo"
      },
      "id": "wm3F3mQ3aiOo",
      "execution_count": 12,
      "outputs": []
    },
    {
      "cell_type": "markdown",
      "source": [
        "####**Problem #2.3**\n",
        "Using the `lin_search` and `bin_search` functions you defined, search for the number 98 in list of 100 elements. Which method finds the number faster?"
      ],
      "metadata": {
        "id": "WuCzZam2atau"
      },
      "id": "WuCzZam2atau"
    },
    {
      "cell_type": "code",
      "source": [
        "lin_search(100, 98)"
      ],
      "metadata": {
        "id": "Gc8DQkSIbk2W",
        "colab": {
          "base_uri": "https://localhost:8080/"
        },
        "outputId": "0dab15c0-6081-4040-b8c1-22c7b9b7e7f1"
      },
      "id": "Gc8DQkSIbk2W",
      "execution_count": 6,
      "outputs": [
        {
          "output_type": "stream",
          "name": "stdout",
          "text": [
            "range(0, 100)\n",
            "98\n"
          ]
        },
        {
          "output_type": "execute_result",
          "data": {
            "text/plain": [
              "99"
            ]
          },
          "metadata": {},
          "execution_count": 6
        }
      ]
    },
    {
      "cell_type": "code",
      "source": [
        "bin_search(100, 98)"
      ],
      "metadata": {
        "id": "U7uomupsbocY",
        "colab": {
          "base_uri": "https://localhost:8080/"
        },
        "outputId": "e94da0ca-c0a8-4d06-97a9-3f37cdee66a9"
      },
      "id": "U7uomupsbocY",
      "execution_count": 13,
      "outputs": [
        {
          "output_type": "execute_result",
          "data": {
            "text/plain": [
              "7"
            ]
          },
          "metadata": {},
          "execution_count": 13
        }
      ]
    },
    {
      "cell_type": "markdown",
      "source": [
        "####**Problem #2.4**\n",
        "Write code such that you select a random element, `var`, in a list of 10 elements. Use `lin_search` and `bin_search` to find this element. Repeat this for a list of 100 elements and 1,000 elements."
      ],
      "metadata": {
        "id": "CsEUKhplcIrX"
      },
      "id": "CsEUKhplcIrX"
    },
    {
      "cell_type": "code",
      "source": [
        "var = random.choice(range(10))"
      ],
      "metadata": {
        "id": "4vLP6tF7ekDq"
      },
      "id": "4vLP6tF7ekDq",
      "execution_count": 14,
      "outputs": []
    },
    {
      "cell_type": "code",
      "source": [
        "lin_search(10, var)"
      ],
      "metadata": {
        "id": "p5m_p4S2ej9d",
        "colab": {
          "base_uri": "https://localhost:8080/"
        },
        "outputId": "26a30d52-656c-4f10-c86a-8450522f5ed5"
      },
      "id": "p5m_p4S2ej9d",
      "execution_count": 15,
      "outputs": [
        {
          "output_type": "stream",
          "name": "stdout",
          "text": [
            "range(0, 10)\n",
            "9\n"
          ]
        },
        {
          "output_type": "execute_result",
          "data": {
            "text/plain": [
              "10"
            ]
          },
          "metadata": {},
          "execution_count": 15
        }
      ]
    },
    {
      "cell_type": "code",
      "source": [
        "bin_search(10, var)"
      ],
      "metadata": {
        "id": "gDZb-j0mej4p"
      },
      "id": "gDZb-j0mej4p",
      "execution_count": 16,
      "outputs": []
    },
    {
      "cell_type": "code",
      "source": [
        "var = random.choice(range(100))"
      ],
      "metadata": {
        "id": "qgfBnE9Tevo1"
      },
      "execution_count": 17,
      "outputs": [],
      "id": "qgfBnE9Tevo1"
    },
    {
      "cell_type": "code",
      "source": [
        "lin_search(100, var)"
      ],
      "metadata": {
        "id": "o-RL6VppevpA",
        "colab": {
          "base_uri": "https://localhost:8080/"
        },
        "outputId": "61518af8-3212-4140-81b6-c4240f4e94ae"
      },
      "execution_count": 18,
      "outputs": [
        {
          "output_type": "stream",
          "name": "stdout",
          "text": [
            "range(0, 100)\n",
            "28\n"
          ]
        },
        {
          "output_type": "execute_result",
          "data": {
            "text/plain": [
              "29"
            ]
          },
          "metadata": {},
          "execution_count": 18
        }
      ],
      "id": "o-RL6VppevpA"
    },
    {
      "cell_type": "code",
      "source": [
        "bin_search(100, var)"
      ],
      "metadata": {
        "id": "kgnh-l2fevpB",
        "colab": {
          "base_uri": "https://localhost:8080/"
        },
        "outputId": "3b8c7aa9-a2f4-48b5-fec2-dc28ed97ee51"
      },
      "execution_count": 19,
      "outputs": [
        {
          "output_type": "execute_result",
          "data": {
            "text/plain": [
              "6"
            ]
          },
          "metadata": {},
          "execution_count": 19
        }
      ],
      "id": "kgnh-l2fevpB"
    },
    {
      "cell_type": "code",
      "source": [
        "var = random.choice(range(1000))"
      ],
      "metadata": {
        "id": "7bXvNbgSewCL"
      },
      "execution_count": 20,
      "outputs": [],
      "id": "7bXvNbgSewCL"
    },
    {
      "cell_type": "code",
      "source": [
        "lin_search(1000, var)"
      ],
      "metadata": {
        "id": "8LJ4vECNewCM",
        "colab": {
          "base_uri": "https://localhost:8080/"
        },
        "outputId": "70c0c25a-0e30-4bdb-e3a4-29cb84e3bac4"
      },
      "execution_count": 21,
      "outputs": [
        {
          "output_type": "stream",
          "name": "stdout",
          "text": [
            "range(0, 1000)\n",
            "710\n"
          ]
        },
        {
          "output_type": "execute_result",
          "data": {
            "text/plain": [
              "711"
            ]
          },
          "metadata": {},
          "execution_count": 21
        }
      ],
      "id": "8LJ4vECNewCM"
    },
    {
      "cell_type": "code",
      "source": [
        "bin_search(1000, var)"
      ],
      "metadata": {
        "id": "UuX1ALSxewCM",
        "colab": {
          "base_uri": "https://localhost:8080/"
        },
        "outputId": "d085014a-d9ae-4987-968c-05eafe0d4cbe"
      },
      "execution_count": 22,
      "outputs": [
        {
          "output_type": "execute_result",
          "data": {
            "text/plain": [
              "10"
            ]
          },
          "metadata": {},
          "execution_count": 22
        }
      ],
      "id": "UuX1ALSxewCM"
    },
    {
      "cell_type": "markdown",
      "source": [
        "#End of Notebook\n",
        "---\n",
        "© 2024 The Coding School, All rights reserved"
      ],
      "metadata": {
        "id": "hQJELyD6aeJ2"
      },
      "id": "hQJELyD6aeJ2"
    }
  ]
}