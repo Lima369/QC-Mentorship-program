{
  "nbformat": 4,
  "nbformat_minor": 0,
  "metadata": {
    "colab": {
      "provenance": [],
      "include_colab_link": true
    },
    "kernelspec": {
      "name": "python3",
      "display_name": "Python 3"
    },
    "language_info": {
      "name": "python"
    }
  },
  "cells": [
    {
      "cell_type": "markdown",
      "metadata": {
        "id": "view-in-github",
        "colab_type": "text"
      },
      "source": [
        "<a href=\"https://colab.research.google.com/github/Lima369/QC-Mentorship-program/blob/main/Copy_of_QXQ_YLC_Week_9_Homework_Notebook_%5BANTONIO%5D.ipynb\" target=\"_parent\"><img src=\"https://colab.research.google.com/assets/colab-badge.svg\" alt=\"Open In Colab\"/></a>"
      ]
    },
    {
      "cell_type": "markdown",
      "metadata": {
        "id": "EN-xuGnTAFTS"
      },
      "source": [
        "# **Homework 9: Ιmplementing BB84 - Part I**\n",
        "---\n",
        "\n",
        "### **Description**\n",
        "In this notebook, you will practice the python tools from this week's lab and work with the BB84 protocol.\n",
        "\n",
        "<br>\n",
        "\n",
        "### **Structure**\n",
        "**Part 1**: [Learning the Tools](#p1)\n",
        "\n",
        "**Part 2**: [Implementing BB84 in Python](#p2)\n",
        ">\n",
        "> **Part 2.1**: [The Protocol](#p2.1)\n",
        ">\n",
        "> **Part 2.2**: [Modifying the Protocol](#p2.2)\n",
        "\n",
        "<br>\n",
        "\n",
        "### **Learning Objectives**\n",
        "By the end of this homework, you will:\n",
        "* Recognize how to use three useful python tools: the choices function, dictionaries, and loops.\n",
        "\n",
        "* Recognize how to implement the steps of BB84 between Alice and Bob using cirq.\n",
        "\n",
        "<br>\n",
        "\n",
        "### **Resources**\n",
        "* [BB84 Cheat Sheet](https://docs.google.com/document/d/1FTBVWQsRVPvuP5e4lo3D62F0NOyfA1qIIPrDnocV6nc/edit)\n",
        "\n",
        "<br>\n",
        "\n",
        "**Before starting, run the code below to import all necessary functions and libraries.**"
      ]
    },
    {
      "cell_type": "code",
      "execution_count": 1,
      "metadata": {
        "id": "K96jXNozAFTW",
        "colab": {
          "base_uri": "https://localhost:8080/"
        },
        "outputId": "efea6b9d-5c9c-4998-acb7-9557fc4bd381"
      },
      "outputs": [
        {
          "output_type": "stream",
          "name": "stdout",
          "text": [
            "\u001b[2K     \u001b[90m━━━━━━━━━━━━━━━━━━━━━━━━━━━━━━━━━━━━━━━━\u001b[0m \u001b[32m1.8/1.8 MB\u001b[0m \u001b[31m9.0 MB/s\u001b[0m eta \u001b[36m0:00:00\u001b[0m\n",
            "\u001b[2K     \u001b[90m━━━━━━━━━━━━━━━━━━━━━━━━━━━━━━━━━━━━━━━━\u001b[0m \u001b[32m143.1/143.1 kB\u001b[0m \u001b[31m14.4 MB/s\u001b[0m eta \u001b[36m0:00:00\u001b[0m\n",
            "\u001b[2K     \u001b[90m━━━━━━━━━━━━━━━━━━━━━━━━━━━━━━━━━━━━━━━━\u001b[0m \u001b[32m598.8/598.8 kB\u001b[0m \u001b[31m51.9 MB/s\u001b[0m eta \u001b[36m0:00:00\u001b[0m\n",
            "\u001b[2K     \u001b[90m━━━━━━━━━━━━━━━━━━━━━━━━━━━━━━━━━━━━━━━━\u001b[0m \u001b[32m60.9/60.9 kB\u001b[0m \u001b[31m7.3 MB/s\u001b[0m eta \u001b[36m0:00:00\u001b[0m\n",
            "\u001b[2K     \u001b[90m━━━━━━━━━━━━━━━━━━━━━━━━━━━━━━━━━━━━━━━━\u001b[0m \u001b[32m66.2/66.2 kB\u001b[0m \u001b[31m7.5 MB/s\u001b[0m eta \u001b[36m0:00:00\u001b[0m\n",
            "\u001b[2K     \u001b[90m━━━━━━━━━━━━━━━━━━━━━━━━━━━━━━━━━━━━━━━━\u001b[0m \u001b[32m596.5/596.5 kB\u001b[0m \u001b[31m52.2 MB/s\u001b[0m eta \u001b[36m0:00:00\u001b[0m\n",
            "\u001b[2K     \u001b[90m━━━━━━━━━━━━━━━━━━━━━━━━━━━━━━━━━━━━━━━━\u001b[0m \u001b[32m223.8/223.8 kB\u001b[0m \u001b[31m21.6 MB/s\u001b[0m eta \u001b[36m0:00:00\u001b[0m\n",
            "\u001b[2K     \u001b[90m━━━━━━━━━━━━━━━━━━━━━━━━━━━━━━━━━━━━━━━━\u001b[0m \u001b[32m229.9/229.9 kB\u001b[0m \u001b[31m26.3 MB/s\u001b[0m eta \u001b[36m0:00:00\u001b[0m\n",
            "\u001b[?25h  Preparing metadata (setup.py) ... \u001b[?25l\u001b[?25hdone\n",
            "\u001b[2K     \u001b[90m━━━━━━━━━━━━━━━━━━━━━━━━━━━━━━━━━━━━━━━━\u001b[0m \u001b[32m151.7/151.7 kB\u001b[0m \u001b[31m17.6 MB/s\u001b[0m eta \u001b[36m0:00:00\u001b[0m\n",
            "\u001b[2K     \u001b[90m━━━━━━━━━━━━━━━━━━━━━━━━━━━━━━━━━━━━━━━━\u001b[0m \u001b[32m45.6/45.6 kB\u001b[0m \u001b[31m5.2 MB/s\u001b[0m eta \u001b[36m0:00:00\u001b[0m\n",
            "\u001b[?25h  Preparing metadata (setup.py) ... \u001b[?25l\u001b[?25hdone\n",
            "\u001b[2K     \u001b[90m━━━━━━━━━━━━━━━━━━━━━━━━━━━━━━━━━━━━━━━━\u001b[0m \u001b[32m1.6/1.6 MB\u001b[0m \u001b[31m63.8 MB/s\u001b[0m eta \u001b[36m0:00:00\u001b[0m\n",
            "\u001b[2K     \u001b[90m━━━━━━━━━━━━━━━━━━━━━━━━━━━━━━━━━━━━━━━━\u001b[0m \u001b[32m151.7/151.7 kB\u001b[0m \u001b[31m16.6 MB/s\u001b[0m eta \u001b[36m0:00:00\u001b[0m\n",
            "\u001b[2K     \u001b[90m━━━━━━━━━━━━━━━━━━━━━━━━━━━━━━━━━━━━━━━━\u001b[0m \u001b[32m151.7/151.7 kB\u001b[0m \u001b[31m17.6 MB/s\u001b[0m eta \u001b[36m0:00:00\u001b[0m\n",
            "\u001b[2K     \u001b[90m━━━━━━━━━━━━━━━━━━━━━━━━━━━━━━━━━━━━━━━━\u001b[0m \u001b[32m147.4/147.4 kB\u001b[0m \u001b[31m17.2 MB/s\u001b[0m eta \u001b[36m0:00:00\u001b[0m\n",
            "\u001b[2K     \u001b[90m━━━━━━━━━━━━━━━━━━━━━━━━━━━━━━━━━━━━━━━━\u001b[0m \u001b[32m147.4/147.4 kB\u001b[0m \u001b[31m15.9 MB/s\u001b[0m eta \u001b[36m0:00:00\u001b[0m\n",
            "\u001b[2K     \u001b[90m━━━━━━━━━━━━━━━━━━━━━━━━━━━━━━━━━━━━━━━━\u001b[0m \u001b[32m147.4/147.4 kB\u001b[0m \u001b[31m16.3 MB/s\u001b[0m eta \u001b[36m0:00:00\u001b[0m\n",
            "\u001b[2K     \u001b[90m━━━━━━━━━━━━━━━━━━━━━━━━━━━━━━━━━━━━━━━━\u001b[0m \u001b[32m142.7/142.7 kB\u001b[0m \u001b[31m16.3 MB/s\u001b[0m eta \u001b[36m0:00:00\u001b[0m\n",
            "\u001b[2K     \u001b[90m━━━━━━━━━━━━━━━━━━━━━━━━━━━━━━━━━━━━━━━━\u001b[0m \u001b[32m84.7/84.7 kB\u001b[0m \u001b[31m9.9 MB/s\u001b[0m eta \u001b[36m0:00:00\u001b[0m\n",
            "\u001b[2K     \u001b[90m━━━━━━━━━━━━━━━━━━━━━━━━━━━━━━━━━━━━━━━━\u001b[0m \u001b[32m83.6/83.6 kB\u001b[0m \u001b[31m9.7 MB/s\u001b[0m eta \u001b[36m0:00:00\u001b[0m\n",
            "\u001b[2K     \u001b[90m━━━━━━━━━━━━━━━━━━━━━━━━━━━━━━━━━━━━━━━━\u001b[0m \u001b[32m83.3/83.3 kB\u001b[0m \u001b[31m11.0 MB/s\u001b[0m eta \u001b[36m0:00:00\u001b[0m\n",
            "\u001b[2K     \u001b[90m━━━━━━━━━━━━━━━━━━━━━━━━━━━━━━━━━━━━━━━━\u001b[0m \u001b[32m83.4/83.4 kB\u001b[0m \u001b[31m10.5 MB/s\u001b[0m eta \u001b[36m0:00:00\u001b[0m\n",
            "\u001b[2K     \u001b[90m━━━━━━━━━━━━━━━━━━━━━━━━━━━━━━━━━━━━━━━━\u001b[0m \u001b[32m83.2/83.2 kB\u001b[0m \u001b[31m10.5 MB/s\u001b[0m eta \u001b[36m0:00:00\u001b[0m\n",
            "\u001b[2K     \u001b[90m━━━━━━━━━━━━━━━━━━━━━━━━━━━━━━━━━━━━━━━━\u001b[0m \u001b[32m82.5/82.5 kB\u001b[0m \u001b[31m11.1 MB/s\u001b[0m eta \u001b[36m0:00:00\u001b[0m\n",
            "\u001b[2K     \u001b[90m━━━━━━━━━━━━━━━━━━━━━━━━━━━━━━━━━━━━━━━━\u001b[0m \u001b[32m81.0/81.0 kB\u001b[0m \u001b[31m8.9 MB/s\u001b[0m eta \u001b[36m0:00:00\u001b[0m\n",
            "\u001b[2K     \u001b[90m━━━━━━━━━━━━━━━━━━━━━━━━━━━━━━━━━━━━━━━━\u001b[0m \u001b[32m81.0/81.0 kB\u001b[0m \u001b[31m10.8 MB/s\u001b[0m eta \u001b[36m0:00:00\u001b[0m\n",
            "\u001b[2K     \u001b[90m━━━━━━━━━━━━━━━━━━━━━━━━━━━━━━━━━━━━━━━━\u001b[0m \u001b[32m80.8/80.8 kB\u001b[0m \u001b[31m9.7 MB/s\u001b[0m eta \u001b[36m0:00:00\u001b[0m\n",
            "\u001b[2K     \u001b[90m━━━━━━━━━━━━━━━━━━━━━━━━━━━━━━━━━━━━━━━━\u001b[0m \u001b[32m80.7/80.7 kB\u001b[0m \u001b[31m8.5 MB/s\u001b[0m eta \u001b[36m0:00:00\u001b[0m\n",
            "\u001b[2K     \u001b[90m━━━━━━━━━━━━━━━━━━━━━━━━━━━━━━━━━━━━━━━━\u001b[0m \u001b[32m81.5/81.5 kB\u001b[0m \u001b[31m8.3 MB/s\u001b[0m eta \u001b[36m0:00:00\u001b[0m\n",
            "\u001b[2K     \u001b[90m━━━━━━━━━━━━━━━━━━━━━━━━━━━━━━━━━━━━━━━━\u001b[0m \u001b[32m90.4/90.4 kB\u001b[0m \u001b[31m11.6 MB/s\u001b[0m eta \u001b[36m0:00:00\u001b[0m\n",
            "\u001b[2K     \u001b[90m━━━━━━━━━━━━━━━━━━━━━━━━━━━━━━━━━━━━━━━━\u001b[0m \u001b[32m117.7/117.7 kB\u001b[0m \u001b[31m14.6 MB/s\u001b[0m eta \u001b[36m0:00:00\u001b[0m\n",
            "\u001b[2K     \u001b[90m━━━━━━━━━━━━━━━━━━━━━━━━━━━━━━━━━━━━━━━━\u001b[0m \u001b[32m60.6/60.6 kB\u001b[0m \u001b[31m7.3 MB/s\u001b[0m eta \u001b[36m0:00:00\u001b[0m\n",
            "\u001b[2K     \u001b[90m━━━━━━━━━━━━━━━━━━━━━━━━━━━━━━━━━━━━━━━━\u001b[0m \u001b[32m71.5/71.5 kB\u001b[0m \u001b[31m8.7 MB/s\u001b[0m eta \u001b[36m0:00:00\u001b[0m\n",
            "\u001b[2K     \u001b[90m━━━━━━━━━━━━━━━━━━━━━━━━━━━━━━━━━━━━━━━━\u001b[0m \u001b[32m1.7/1.7 MB\u001b[0m \u001b[31m68.5 MB/s\u001b[0m eta \u001b[36m0:00:00\u001b[0m\n",
            "\u001b[2K     \u001b[90m━━━━━━━━━━━━━━━━━━━━━━━━━━━━━━━━━━━━━━━━\u001b[0m \u001b[32m116.4/116.4 kB\u001b[0m \u001b[31m14.1 MB/s\u001b[0m eta \u001b[36m0:00:00\u001b[0m\n",
            "\u001b[2K     \u001b[90m━━━━━━━━━━━━━━━━━━━━━━━━━━━━━━━━━━━━━━━━\u001b[0m \u001b[32m69.6/69.6 kB\u001b[0m \u001b[31m9.4 MB/s\u001b[0m eta \u001b[36m0:00:00\u001b[0m\n",
            "\u001b[2K     \u001b[90m━━━━━━━━━━━━━━━━━━━━━━━━━━━━━━━━━━━━━━━━\u001b[0m \u001b[32m526.7/526.7 kB\u001b[0m \u001b[31m48.8 MB/s\u001b[0m eta \u001b[36m0:00:00\u001b[0m\n",
            "\u001b[2K     \u001b[90m━━━━━━━━━━━━━━━━━━━━━━━━━━━━━━━━━━━━━━━━\u001b[0m \u001b[32m58.3/58.3 kB\u001b[0m \u001b[31m7.6 MB/s\u001b[0m eta \u001b[36m0:00:00\u001b[0m\n",
            "\u001b[?25h  Building wheel for lark (setup.py) ... \u001b[?25l\u001b[?25hdone\n",
            "  Building wheel for rpcq (setup.py) ... \u001b[?25l\u001b[?25hdone\n",
            "\u001b[31mERROR: pip's dependency resolver does not currently take into account all the packages that are installed. This behaviour is the source of the following dependency conflicts.\n",
            "lida 0.0.10 requires fastapi, which is not installed.\n",
            "lida 0.0.10 requires kaleido, which is not installed.\n",
            "lida 0.0.10 requires python-multipart, which is not installed.\n",
            "lida 0.0.10 requires uvicorn, which is not installed.\n",
            "referencing 0.31.1 requires attrs>=22.2.0, but you have attrs 21.4.0 which is incompatible.\u001b[0m\u001b[31m\n",
            "\u001b[0m"
          ]
        }
      ],
      "source": [
        "!pip install cirq --quiet\n",
        "import cirq\n",
        "\n",
        "from random import choices"
      ]
    },
    {
      "cell_type": "markdown",
      "source": [
        "<a name=\"p1\"></a>\n",
        "\n",
        "---\n",
        "## **Part 1: Learning the Tools**\n",
        "---"
      ],
      "metadata": {
        "id": "rNi7Xem-m6Zu"
      }
    },
    {
      "cell_type": "markdown",
      "source": [
        "#### **Problem #1.1**\n",
        "\n",
        "Use the `choices(...)` function to create a list of 5 elements that are `'Alice'`, `'Bob'`, or `'Eve'`."
      ],
      "metadata": {
        "id": "-gcKN3urnNzM"
      }
    },
    {
      "cell_type": "code",
      "source": [
        "choices(['Alice', 'Bob', 'Eve'], k = 5)"
      ],
      "metadata": {
        "id": "sklmUPYHndTr",
        "colab": {
          "base_uri": "https://localhost:8080/"
        },
        "outputId": "58effde2-973f-419e-9ba7-b0b68c363b1a"
      },
      "execution_count": 2,
      "outputs": [
        {
          "output_type": "execute_result",
          "data": {
            "text/plain": [
              "['Bob', 'Bob', 'Eve', 'Bob', 'Bob']"
            ]
          },
          "metadata": {},
          "execution_count": 2
        }
      ]
    },
    {
      "cell_type": "markdown",
      "source": [
        "#### **Problem #1.2**\n",
        "\n",
        "Use the `choices(...)` function to create a list of 15 elements that are `'Alice'`, `'Bob'`, or `'Eve'`."
      ],
      "metadata": {
        "id": "1Hf37ZkV4Erz"
      }
    },
    {
      "cell_type": "code",
      "source": [
        "choices(['Alice', 'Bob', 'Eve'], k = 15)"
      ],
      "metadata": {
        "id": "hfljDscv4Er0",
        "colab": {
          "base_uri": "https://localhost:8080/"
        },
        "outputId": "92b944cf-4950-4dff-a980-82ed7edb3ca4"
      },
      "execution_count": 3,
      "outputs": [
        {
          "output_type": "execute_result",
          "data": {
            "text/plain": [
              "['Eve',\n",
              " 'Bob',\n",
              " 'Alice',\n",
              " 'Bob',\n",
              " 'Eve',\n",
              " 'Eve',\n",
              " 'Eve',\n",
              " 'Alice',\n",
              " 'Alice',\n",
              " 'Bob',\n",
              " 'Bob',\n",
              " 'Bob',\n",
              " 'Bob',\n",
              " 'Bob',\n",
              " 'Bob']"
            ]
          },
          "metadata": {},
          "execution_count": 3
        }
      ]
    },
    {
      "cell_type": "markdown",
      "source": [
        "#### **Problem #1.3**\n",
        "\n",
        "Use the `choices(...)` function to create a list of 15 elements that are the ints `0`, `1`, or `2`."
      ],
      "metadata": {
        "id": "piZx1V_a4MMP"
      }
    },
    {
      "cell_type": "code",
      "source": [
        "choices([0, 1, 2], k = 15)"
      ],
      "metadata": {
        "id": "rbIQBaDd4MMT",
        "colab": {
          "base_uri": "https://localhost:8080/"
        },
        "outputId": "44d5dedf-337b-414b-ec83-663d233dbad4"
      },
      "execution_count": 4,
      "outputs": [
        {
          "output_type": "execute_result",
          "data": {
            "text/plain": [
              "[0, 0, 2, 1, 2, 0, 1, 1, 1, 2, 0, 1, 1, 2, 2]"
            ]
          },
          "metadata": {},
          "execution_count": 4
        }
      ]
    },
    {
      "cell_type": "markdown",
      "source": [
        "#### **Problem #1.4**\n",
        "\n",
        "Create a dictionary called `my_favorites` with key, value pairs as follows:\n",
        "* `'animal'`: the value is your favorite animal.\n",
        "* `'food'`: the value is your favorite food.\n",
        "* `'movie'`: the value is your favorite movie.\n",
        "\n",
        "<br>\n",
        "\n",
        "At the end, print your favorite food from this dictionary."
      ],
      "metadata": {
        "id": "A-fqwv-R4XtL"
      }
    },
    {
      "cell_type": "code",
      "source": [
        "my_favorites = {'animal': \"lion\", 'food': \"pizza\", 'movie': \"Clocks\"}\n",
        "\n",
        "print(my_favorites['food'])"
      ],
      "metadata": {
        "id": "tY2OiOAP4XtN",
        "colab": {
          "base_uri": "https://localhost:8080/"
        },
        "outputId": "932da08a-5596-4729-a65e-edef8221e715"
      },
      "execution_count": 5,
      "outputs": [
        {
          "output_type": "stream",
          "name": "stdout",
          "text": [
            "pizza\n"
          ]
        }
      ]
    },
    {
      "cell_type": "markdown",
      "source": [
        "#### **Problem #1.5**\n",
        "\n",
        "Create a dictionary called `my_gates` with key, value pairs as follows:\n",
        "* `'do nothing'`: `cirq.I`.\n",
        "* `'flip bit'`: `cirq.X`.\n",
        "* `'flip phase'`: `cirq.Z`.\n",
        "* `'superposition'`: `cirq.H`.\n",
        "\n",
        "\n",
        "<br>\n",
        "\n",
        "At the end, print the `superposition` gate."
      ],
      "metadata": {
        "id": "ndB4P9xM5CmV"
      }
    },
    {
      "cell_type": "code",
      "source": [
        "my_gates = {'do nothing': \"cirq.I\", 'flip bit': \"cirq.X\", 'flip phase': \"ciq.Z\", 'superposition': \"cirq.H\"}\n",
        "\n",
        "my_gates['superposition']"
      ],
      "metadata": {
        "id": "lhfrVqEO5CmW",
        "colab": {
          "base_uri": "https://localhost:8080/",
          "height": 35
        },
        "outputId": "f9778068-0930-41cf-9634-fb2c5bb9bc1d"
      },
      "execution_count": 6,
      "outputs": [
        {
          "output_type": "execute_result",
          "data": {
            "text/plain": [
              "'cirq.H'"
            ],
            "application/vnd.google.colaboratory.intrinsic+json": {
              "type": "string"
            }
          },
          "metadata": {},
          "execution_count": 6
        }
      ]
    },
    {
      "cell_type": "markdown",
      "source": [
        "#### **Problem #1.6**\n",
        "\n",
        "Complete the code below to print every item in the provided list."
      ],
      "metadata": {
        "id": "BR-RGGV55bkX"
      }
    },
    {
      "cell_type": "code",
      "source": [
        "my_list = ['alice', 'bob', 'eve', 'mallory', 'judy']\n",
        "\n",
        "for i in range(5):\n",
        "  print(my_list[i])"
      ],
      "metadata": {
        "id": "RcRouqnd5bka",
        "colab": {
          "base_uri": "https://localhost:8080/"
        },
        "outputId": "371f4867-a3a9-4ac0-9074-003eef9d0c4f"
      },
      "execution_count": 8,
      "outputs": [
        {
          "output_type": "stream",
          "name": "stdout",
          "text": [
            "alice\n",
            "bob\n",
            "eve\n",
            "mallory\n",
            "judy\n"
          ]
        }
      ]
    },
    {
      "cell_type": "markdown",
      "source": [
        "#### **Problem #1.7**\n",
        "\n",
        "Complete the code below to add every int in the list to the variable `total`."
      ],
      "metadata": {
        "id": "r8c6jmOE58A5"
      }
    },
    {
      "cell_type": "code",
      "source": [
        "nums = [1, 2, 3, 4, 5, 6, 7, 8, 9, 10, 11, 12, 13, 14, 15, 16, 17, 18, 19, 20]\n",
        "\n",
        "total = 0\n",
        "for i in range(20):\n",
        "  total = total + nums[i]\n",
        "\n",
        "print(total)"
      ],
      "metadata": {
        "id": "V6lQIPDz58A8",
        "colab": {
          "base_uri": "https://localhost:8080/"
        },
        "outputId": "2e117c18-21d2-49de-f4a4-b7d01b6c4219"
      },
      "execution_count": 9,
      "outputs": [
        {
          "output_type": "stream",
          "name": "stdout",
          "text": [
            "210\n"
          ]
        }
      ]
    },
    {
      "cell_type": "markdown",
      "source": [
        "#### **Problem #1.8**\n",
        "\n",
        "Complete the code below to apply each gate in `gates_list` to `qubit`."
      ],
      "metadata": {
        "id": "rwfQm6rM6RQQ"
      }
    },
    {
      "cell_type": "code",
      "source": [
        "qubit = cirq.NamedQubit('q0')\n",
        "circuit = cirq.Circuit()\n",
        "\n",
        "gates_list = [cirq.X, cirq.I, cirq.Z, cirq.H]\n",
        "\n",
        "for i in range(4):\n",
        "  circuit.append(gates_list[i](qubit))\n",
        "\n",
        "print(circuit)"
      ],
      "metadata": {
        "id": "cd2fpsVl6RQS",
        "colab": {
          "base_uri": "https://localhost:8080/"
        },
        "outputId": "4e678504-bc28-4d10-ade6-a7d05a730e83"
      },
      "execution_count": 14,
      "outputs": [
        {
          "output_type": "stream",
          "name": "stdout",
          "text": [
            "q0: ───X───I───Z───H───\n"
          ]
        }
      ]
    },
    {
      "cell_type": "markdown",
      "source": [
        "#### **Problem #1.9**\n",
        "\n",
        "Complete the code below to:\n",
        "* Store 20 randomly chosen gates in `gates_list`.\n",
        "* Apply each of the gates in `gates_list` to `qubit`."
      ],
      "metadata": {
        "id": "NrDdHLTL6nM0"
      }
    },
    {
      "cell_type": "code",
      "source": [
        "qubit = cirq.NamedQubit('q0')\n",
        "circuit = cirq.Circuit()\n",
        "\n",
        "gates_list = choices([cirq.X, cirq.I, cirq.Z, cirq.H], k = 20)\n",
        "\n",
        "for i in range(20):\n",
        "  circuit.append(gates_list[i](qubit))\n",
        "\n",
        "print(circuit)"
      ],
      "metadata": {
        "id": "OVDdDs9q6nM4",
        "colab": {
          "base_uri": "https://localhost:8080/"
        },
        "outputId": "0352db38-6fa1-426c-f382-f422224d91a8"
      },
      "execution_count": 15,
      "outputs": [
        {
          "output_type": "stream",
          "name": "stdout",
          "text": [
            "q0: ───I───Z───I───Z───Z───I───Z───X───H───Z───Z───Z───H───H───I───X───X───H───I───X───\n"
          ]
        }
      ]
    },
    {
      "cell_type": "markdown",
      "source": [
        "#### **Problem #1.10**\n",
        "\n",
        "Complete the code below to:\n",
        "* Store 50 (`num_bits`) randomly chosen numbers from `[0, 1, 2]` in `gates_list`.\n",
        "* Apply the `i`th gate in `gates_list` to the `i`th qubit using `gates_dict` to determine which gate to use from numbers `[0, 1, 2]`."
      ],
      "metadata": {
        "id": "2ucyvymF6-qQ"
      }
    },
    {
      "cell_type": "code",
      "source": [
        "num_bits = 50\n",
        "qubits = cirq.NamedQubit.range(num_bits, prefix = 'q')\n",
        "circuit = cirq.Circuit()\n",
        "\n",
        "gates_list = choices([0, 1, 2], k=num_bits)\n",
        "gates_dict = {0: cirq.I, 1: cirq.X, 2: cirq.H}\n",
        "for i in range(num_bits):\n",
        "  gate_num = gates_list[i]\n",
        "  gate = gates_dict[gate_num]\n",
        "  qubit = qubits[i]\n",
        "  circuit.append(gate(qubit))\n",
        "\n",
        "print(circuit)"
      ],
      "metadata": {
        "id": "fdg9Owbl6-qT",
        "colab": {
          "base_uri": "https://localhost:8080/"
        },
        "outputId": "4070e4ea-5fe8-4703-d80f-ca8b9292563c"
      },
      "execution_count": 16,
      "outputs": [
        {
          "output_type": "stream",
          "name": "stdout",
          "text": [
            "q0: ────H───\n",
            "\n",
            "q1: ────I───\n",
            "\n",
            "q2: ────H───\n",
            "\n",
            "q3: ────I───\n",
            "\n",
            "q4: ────I───\n",
            "\n",
            "q5: ────I───\n",
            "\n",
            "q6: ────X───\n",
            "\n",
            "q7: ────H───\n",
            "\n",
            "q8: ────I───\n",
            "\n",
            "q9: ────I───\n",
            "\n",
            "q10: ───H───\n",
            "\n",
            "q11: ───X───\n",
            "\n",
            "q12: ───H───\n",
            "\n",
            "q13: ───H───\n",
            "\n",
            "q14: ───I───\n",
            "\n",
            "q15: ───X───\n",
            "\n",
            "q16: ───H───\n",
            "\n",
            "q17: ───I───\n",
            "\n",
            "q18: ───H───\n",
            "\n",
            "q19: ───I───\n",
            "\n",
            "q20: ───H───\n",
            "\n",
            "q21: ───X───\n",
            "\n",
            "q22: ───X───\n",
            "\n",
            "q23: ───H───\n",
            "\n",
            "q24: ───X───\n",
            "\n",
            "q25: ───H───\n",
            "\n",
            "q26: ───I───\n",
            "\n",
            "q27: ───I───\n",
            "\n",
            "q28: ───I───\n",
            "\n",
            "q29: ───X───\n",
            "\n",
            "q30: ───H───\n",
            "\n",
            "q31: ───I───\n",
            "\n",
            "q32: ───X───\n",
            "\n",
            "q33: ───X───\n",
            "\n",
            "q34: ───X───\n",
            "\n",
            "q35: ───I───\n",
            "\n",
            "q36: ───H───\n",
            "\n",
            "q37: ───I───\n",
            "\n",
            "q38: ───X───\n",
            "\n",
            "q39: ───X───\n",
            "\n",
            "q40: ───H───\n",
            "\n",
            "q41: ───X───\n",
            "\n",
            "q42: ───X───\n",
            "\n",
            "q43: ───H───\n",
            "\n",
            "q44: ───X───\n",
            "\n",
            "q45: ───X───\n",
            "\n",
            "q46: ───H───\n",
            "\n",
            "q47: ───H───\n",
            "\n",
            "q48: ───H───\n",
            "\n",
            "q49: ───H───\n"
          ]
        }
      ]
    },
    {
      "cell_type": "markdown",
      "source": [
        "<a name=\"p2\"></a>\n",
        "\n",
        "---\n",
        "## **Part 2: Implementing BB84 in Python**\n",
        "---\n",
        "\n",
        "The entire BB84 protocol between Alice and Bob is implemented below. In this part, you will interpret and adjust the code in order to understand it more deeply."
      ],
      "metadata": {
        "id": "yh-igDInH7bA"
      }
    },
    {
      "cell_type": "markdown",
      "source": [
        "<a name=\"p2.1\"></a>\n",
        "\n",
        "---\n",
        "### **Part 2.1: The Protocol**\n",
        "---\n",
        "\n",
        "The entire BB84 protocol between Alice and Bob is implemented below."
      ],
      "metadata": {
        "id": "MiiuFV_ZRkY-"
      }
    },
    {
      "cell_type": "markdown",
      "source": [
        "#### **The Setup**"
      ],
      "metadata": {
        "id": "GNovMdq2Ka2U"
      }
    },
    {
      "cell_type": "code",
      "source": [
        "encode_gates = {0: cirq.I, 1: cirq.X}\n",
        "basis_gates = {'Z': cirq.I, 'X': cirq.H}\n",
        "\n",
        "num_bits = 5\n",
        "qubits = cirq.NamedQubit.range(num_bits, prefix = 'q')"
      ],
      "metadata": {
        "id": "Z-as_utDINfN"
      },
      "execution_count": 21,
      "outputs": []
    },
    {
      "cell_type": "markdown",
      "source": [
        "#### **Phase #1: Alice Sends**"
      ],
      "metadata": {
        "id": "RGNVXnRsVJPw"
      }
    },
    {
      "cell_type": "code",
      "source": [
        "# Step #1\n",
        "alice_key = choices([0, 1], k = num_bits)\n",
        "\n",
        "print('Alice\\'s initial key: ', alice_key)\n",
        "\n",
        "# Step #2\n",
        "alice_bases = choices(['Z', 'X'], k = num_bits)\n",
        "\n",
        "print('\\nAlice\\'s randomly chosen bases: ', alice_bases)\n",
        "\n",
        "# Step #3\n",
        "alice_circuit = cirq.Circuit()\n",
        "\n",
        "for bit in range(num_bits):\n",
        "\n",
        "  encode_value = alice_key[bit]\n",
        "  encode_gate = encode_gates[encode_value]\n",
        "\n",
        "  basis_value = alice_bases[bit]\n",
        "  basis_gate = basis_gates[basis_value]\n",
        "\n",
        "  qubit = qubits[bit]\n",
        "  alice_circuit.append(encode_gate(qubit))\n",
        "  alice_circuit.append(basis_gate(qubit))\n",
        "\n",
        "print('\\nAlice\\'s Phase 1 circuit:\\n', alice_circuit)"
      ],
      "metadata": {
        "colab": {
          "base_uri": "https://localhost:8080/"
        },
        "id": "7P4Sdmj9IKwl",
        "outputId": "1c98afcc-4b74-4146-a75b-62fbbfa3b0d3"
      },
      "execution_count": 22,
      "outputs": [
        {
          "output_type": "stream",
          "name": "stdout",
          "text": [
            "Alice's initial key:  [1, 0, 0, 0, 0]\n",
            "\n",
            "Alice's randomly chosen bases:  ['Z', 'X', 'Z', 'Z', 'Z']\n",
            "\n",
            "Alice's Phase 1 circuit:\n",
            " q0: ───X───I───\n",
            "\n",
            "q1: ───I───H───\n",
            "\n",
            "q2: ───I───I───\n",
            "\n",
            "q3: ───I───I───\n",
            "\n",
            "q4: ───I───I───\n"
          ]
        }
      ]
    },
    {
      "cell_type": "markdown",
      "source": [
        "#### **Phase #2: Bob Receives**"
      ],
      "metadata": {
        "id": "xgI3jrfAIEv5"
      }
    },
    {
      "cell_type": "code",
      "source": [
        "# Step #4\n",
        "# No code required for this Step\n",
        "\n",
        "\n",
        "# Step #5\n",
        "bob_bases = choices(['Z', 'X'], k = num_bits)\n",
        "print('Bob\\'s randomly chosen bases: ', bob_bases)\n",
        "\n",
        "bob_circuit = cirq.Circuit()\n",
        "\n",
        "for bit in range(num_bits):\n",
        "\n",
        "  basis_value = bob_bases[bit]\n",
        "  basis_gate = basis_gates[basis_value]\n",
        "\n",
        "  qubit = qubits[bit]\n",
        "  bob_circuit.append(basis_gate(qubit))\n",
        "\n",
        "\n",
        "# Step #6\n",
        "bob_circuit.append(cirq.measure(qubits, key = 'bob key'))\n",
        "\n",
        "print('\\nBob\\'s Phase 2 circuit:\\n', bob_circuit)\n",
        "\n",
        "\n",
        "# Step #7\n",
        "bb84_circuit = alice_circuit + bob_circuit\n",
        "\n",
        "sim = cirq.Simulator()\n",
        "results = sim.run(bb84_circuit)\n",
        "bob_key = results.measurements['bob key'][0]\n",
        "\n",
        "print('\\nBob\\'s initial key: ', bob_key)"
      ],
      "metadata": {
        "colab": {
          "base_uri": "https://localhost:8080/"
        },
        "id": "dDAMtTtEI0bq",
        "outputId": "3ca450fc-e679-4400-c16b-21a63066606f"
      },
      "execution_count": 23,
      "outputs": [
        {
          "output_type": "stream",
          "name": "stdout",
          "text": [
            "Bob's randomly chosen bases:  ['X', 'X', 'Z', 'Z', 'X']\n",
            "\n",
            "Bob's Phase 2 circuit:\n",
            " q0: ───H───M('bob key')───\n",
            "           │\n",
            "q1: ───H───M──────────────\n",
            "           │\n",
            "q2: ───I───M──────────────\n",
            "           │\n",
            "q3: ───I───M──────────────\n",
            "           │\n",
            "q4: ───H───M──────────────\n",
            "\n",
            "Bob's initial key:  [0 0 0 0 1]\n"
          ]
        }
      ]
    },
    {
      "cell_type": "markdown",
      "source": [
        "#### **Phase #3: Alice and Bob Compare**"
      ],
      "metadata": {
        "id": "zRSajhVHIE1E"
      }
    },
    {
      "cell_type": "code",
      "source": [
        "# Step #8\n",
        "final_alice_key = []\n",
        "final_bob_key = []\n",
        "\n",
        "for bit in range(num_bits):\n",
        "\n",
        "  if alice_bases[bit] == bob_bases[bit]:\n",
        "    final_alice_key.append(alice_key[bit])\n",
        "    final_bob_key.append(bob_key[bit])\n",
        "\n",
        "print('\\nAlice\\'s key: ', final_alice_key)\n",
        "print('Bob\\'s key: ', final_bob_key)\n",
        "\n",
        "\n",
        "# Step #9\n",
        "if final_alice_key[0] == final_bob_key[0]:\n",
        "  final_alice_key = final_alice_key[1:]\n",
        "  final_bob_key = final_bob_key[1:]\n",
        "\n",
        "  print('\\n\\nWe can use our keys!')\n",
        "  print('Alice Key: ', final_alice_key)\n",
        "  print('Bob Key: ', final_bob_key)\n",
        "\n",
        "else:\n",
        "  print('\\n\\nEve was listening, we need to use a different channel!')"
      ],
      "metadata": {
        "colab": {
          "base_uri": "https://localhost:8080/"
        },
        "id": "n_Ud7Z0WI1Sn",
        "outputId": "05a8f025-a7bd-4c15-b2fd-c3c743208035"
      },
      "execution_count": 24,
      "outputs": [
        {
          "output_type": "stream",
          "name": "stdout",
          "text": [
            "\n",
            "Alice's key:  [0, 0, 0]\n",
            "Bob's key:  [0, 0, 0]\n",
            "\n",
            "\n",
            "We can use our keys!\n",
            "Alice Key:  [0, 0]\n",
            "Bob Key:  [0, 0]\n"
          ]
        }
      ]
    },
    {
      "cell_type": "markdown",
      "source": [
        "<a name=\"p2.2\"></a>\n",
        "\n",
        "---\n",
        "### **Part 2.2: Modifying the Protocol**\n",
        "---\n",
        "\n",
        "This part, you will run and modify the code in Part 2.1 in order to understand the protocol more deeply."
      ],
      "metadata": {
        "id": "EKCRjD4PRpX1"
      }
    },
    {
      "cell_type": "markdown",
      "source": [
        "#### **Problem #2.1**\n",
        "\n",
        "Run all the code above to perform the BB84 protocol as given. Answer the following questions in the multiple choice questions for this week's homework quiz:\n",
        "\n",
        "* What is the smallest possible key this code can produce after performing all 9 steps?\n",
        "\n",
        "* What is the largest possible key this code can produce after performing all 9 steps?"
      ],
      "metadata": {
        "id": "7eh-YvvqKp2P"
      }
    },
    {
      "cell_type": "markdown",
      "source": [
        "#### **Problem #2.2**\n",
        "\n",
        "Now, modify the code above so that Alice creates an initial key that is 100 instead of 5 bits long. Then run the entire protocol again.\n",
        "\n",
        "<br>\n",
        "\n",
        "**Hint**: There is only one line of code that actually needs to change."
      ],
      "metadata": {
        "id": "E3zA192MLHxl"
      }
    },
    {
      "cell_type": "markdown",
      "source": [
        "#### **Problem #2.3**\n",
        "\n",
        "The BB84 protocol instructs Alice to encode the bits of her key into qubits as 0s and 1s first and then encode them into the Z or X bases.\n",
        "\n",
        "<br>\n",
        "\n",
        "**Modify the code in Phase #1 so that Alice encodes her qubits in the opposite order, in other words into the Z or X bases *before* encoding the bits of her key as 0s or 1s.** Then answer the associated multiple choice question in this week's homework quiz.\n",
        "\n",
        "<br>\n",
        "\n",
        "**NOTE**: Make sure you undo any changes from this Problem before moving on."
      ],
      "metadata": {
        "id": "jSyNDQOFLYxO"
      }
    },
    {
      "cell_type": "markdown",
      "source": [
        "#### **Problem #2.4**\n",
        "\n",
        "In Phases #1 - 2, we create two separate circuits: one for Alice's Steps and one for Bob's Steps.\n",
        "\n",
        "<br>\n",
        "\n",
        "This is not *strictly* necessary, so now **modify the code in Phase #2 so that Bob's steps are appended to `alice_circuit` instead of creating a new circuit.** Then answer the associated multiple choice question in this week's homework quiz.\n",
        "\n",
        "\n",
        "<br>\n",
        "\n",
        "**NOTE**: Make sure you undo any changes from this Problem before moving on. It may be easier to write your solution in a separate code cell rather than modify the code provided."
      ],
      "metadata": {
        "id": "0qB2_cXtNqH4"
      }
    },
    {
      "cell_type": "markdown",
      "source": [
        "#### **Problem #2.5**\n",
        "\n",
        "In Phase #3, Alice and Bob compare some of their key bits to ensure they actually agree. Currently, they just compare the very first bit of their keys.\n",
        "\n",
        "<br>\n",
        "\n",
        "**Modify the code in Phase #3 so that Alice and Bob compare the first two bits instead of just one.** Then answer the associated multiple choice question in this week's homework quiz."
      ],
      "metadata": {
        "id": "xjyQkr5rN0QA"
      }
    },
    {
      "cell_type": "markdown",
      "metadata": {
        "id": "7dzC09dLlEhm"
      },
      "source": [
        "# End of Notebook\n",
        "\n",
        "---\n",
        "© 2023 The Coding School, All rights reserved"
      ]
    }
  ]
}